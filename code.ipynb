{
 "cells": [
  {
   "cell_type": "markdown",
   "metadata": {
    "collapsed": false
   },
   "source": [
    "## 1. Goal"
   ]
  },
  {
   "cell_type": "markdown",
   "metadata": {
    "collapsed": false
   },
   "source": [
    "The program will ask the user to input the range of integers that they want to choose from, and the program will use binary search to guess the user's number. The program will ask the user if the guess is too high, too low, or correct, and the program will then adjust its guess accordingly."
   ]
  },
  {
   "cell_type": "markdown",
   "metadata": {
    "collapsed": false
   },
   "source": [
    "## 2. Programming"
   ]
  },
  {
   "cell_type": "markdown",
   "metadata": {
    "collapsed": false
   },
   "source": [
    "### 2.1. Imports"
   ]
  },
  {
   "cell_type": "code",
   "execution_count": null,
   "metadata": {},
   "outputs": [],
   "source": [
    "import math\n",
    "import re\n",
    "from typing import Callable, Optional, Tuple"
   ]
  },
  {
   "cell_type": "markdown",
   "metadata": {
    "collapsed": false
   },
   "source": [
    "### 2.2. Prompt function"
   ]
  },
  {
   "cell_type": "code",
   "execution_count": null,
   "metadata": {},
   "outputs": [],
   "source": [
    "def prompt_until_predicate_met(prompt: str, error: Callable[[str], Optional[str]]) -> str:\n",
    "    \"\"\"\n",
    "    Prompts the user for input until the error function returns None and subsequently returns the user's input.\n",
    "    :param prompt: The prompt to display to the user\n",
    "    :param error: The function that takes the user's input and returns an error message if the input is invalid, or None\n",
    "                  if the input is valid\n",
    "    :return: The user's input\n",
    "    \"\"\"\n",
    "    while True:\n",
    "        user_input = input(prompt)\n",
    "        error_message = error(user_input)\n",
    "        if error_message is None:\n",
    "            return user_input\n",
    "        else:\n",
    "            print(f\"Error: {error_message}\")"
   ]
  },
  {
   "cell_type": "markdown",
   "metadata": {
    "collapsed": false
   },
   "source": [
    "### 2.3 Get user range function"
   ]
  },
  {
   "cell_type": "code",
   "execution_count": null,
   "metadata": {},
   "outputs": [],
   "source": [
    "def get_user_range() -> Tuple[int, int]:\n",
    "    \"\"\"\n",
    "    Prompts the user for input until the user enters a valid range and subsequently returns the range as a tuple.\n",
    "    :return: The range of integers as a tuple\n",
    "    \"\"\"\n",
    "\n",
    "    # Regex to match an integer\n",
    "    integer_regex = re.compile(r\"^-?\\d+$\")\n",
    "\n",
    "    # Validates that a number is an integer\n",
    "    integer_validator = lambda n: \"Please enter a valid integer.\" if integer_regex.match(n) is None else None\n",
    "\n",
    "    # Validates that the end of the range is greater than or equal to the start of the range\n",
    "    end_greater_than_start_validator = lambda n: \"The end of the range must be greater than \" \\\n",
    "                                                 \"or equal to the start of the range.\" if int(n) < start else None\n",
    "\n",
    "    start = int(prompt_until_predicate_met(\n",
    "        \"Please enter the start of the range of integers you want to choose from: \",\n",
    "        integer_validator\n",
    "    ))\n",
    "    print()\n",
    "\n",
    "    end = int(prompt_until_predicate_met(\n",
    "        \"Please enter the end of the range of integers you want to choose from: \",\n",
    "        lambda n: integer_validator(n) or end_greater_than_start_validator(n)\n",
    "    ))\n",
    "    print()\n",
    "\n",
    "    return start, end"
   ]
  },
  {
   "cell_type": "markdown",
   "metadata": {
    "collapsed": false
   },
   "source": [
    "### 2.4 Binary search guess number function"
   ]
  },
  {
   "cell_type": "code",
   "execution_count": null,
   "metadata": {},
   "outputs": [],
   "source": [
    "def binary_search_guess_number(start: int, end: int) -> Optional[Tuple[int, int]]:\n",
    "    \"\"\"\n",
    "    Guesses the number the user is thinking of in a range of integers using binary search and returns the user's\n",
    "    number and the number of guesses it took to guess the user's number if they did not cheat or None otherwise.\n",
    "    :param start: The start of the range of integers\n",
    "    :param end: The end of the range of integers\n",
    "    :return: The tuple of the user's number and the number of guesses it took to guess the user's number if they did\n",
    "             not cheat or None otherwise\n",
    "    \"\"\"\n",
    "    num_guesses = 0\n",
    "\n",
    "    while start <= end:\n",
    "        num_guesses += 1\n",
    "        # Note: I am aware of //, but I use this to ensure that the result rounds towards 0 instead of -inf\n",
    "        mid = int((start + end) / 2)\n",
    "\n",
    "        guess_comparison = prompt_until_predicate_met(\n",
    "            f\"Is your number {mid}? Enter 'h' if your number is higher, \"\n",
    "            \"'l' if your number is lower, or 'c' if my guess is correct: \",\n",
    "            lambda comparison: \"Please enter 'h', 'l', or 'c'.\" if comparison not in {\"h\", \"l\", \"c\"} else None\n",
    "        )\n",
    "\n",
    "        if guess_comparison == \"h\":\n",
    "            start = mid + 1\n",
    "        elif guess_comparison == \"l\":\n",
    "            end = mid - 1\n",
    "        else:\n",
    "            return mid, num_guesses\n",
    "    return None"
   ]
  },
  {
   "cell_type": "markdown",
   "metadata": {
    "collapsed": false
   },
   "source": [
    "### 2.5 Main function"
   ]
  },
  {
   "cell_type": "code",
   "execution_count": null,
   "metadata": {},
   "outputs": [],
   "source": [
    "def main() -> None:\n",
    "    \"\"\"\n",
    "    The runner function for the program.\n",
    "    :return: None\n",
    "    \"\"\"\n",
    "    print(\"I will attempt to guess a number you are thinking of in a range of integers.\\n\")\n",
    "\n",
    "    start, end = get_user_range()\n",
    "\n",
    "    num_tries = math.floor(math.log2(end - start + 1)) + 1\n",
    "    print(\"Think of a number between the start and end of the range you entered.\")\n",
    "    print(\n",
    "        f\"I will guess the number you are thinking of in {num_tries} tries or less.\\n\"\n",
    "    )\n",
    "\n",
    "    result = binary_search_guess_number(start, end)\n",
    "    print()\n",
    "\n",
    "    if result is None:\n",
    "        print(\"You are a dirty cheater, aren't you? You must not even have had a number in mind.\")\n",
    "    else:\n",
    "        print(f\"I guessed your number {result[0]} in {result[1]}/{num_tries} guesses!\")"
   ]
  },
  {
   "cell_type": "markdown",
   "metadata": {
    "collapsed": false
   },
   "source": [
    "### 2.6 Main runner"
   ]
  },
  {
   "cell_type": "code",
   "execution_count": null,
   "metadata": {},
   "outputs": [],
   "source": [
    "if __name__ == \"__main__\":\n",
    "    main()"
   ]
  }
 ],
 "metadata": {
  "language_info": {
   "name": "python"
  }
 },
 "nbformat": 4,
 "nbformat_minor": 0
}
